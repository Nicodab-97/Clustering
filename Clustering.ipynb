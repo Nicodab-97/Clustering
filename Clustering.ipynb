{
 "cells": [
  {
   "cell_type": "code",
   "execution_count": 1,
   "metadata": {},
   "outputs": [],
   "source": [
    "import numpy as np\n",
    "import pandas as pd\n",
    "import seaborn as sns\n",
    "from matplotlib import pyplot as plt\n",
    "\n",
    "#Reading excel sheet for the clustering\n",
    "\n",
    "excel_sheet = pd.read_excel(r'C:\\Users\\nicol\\Downloads\\data.xlsx')"
   ]
  },
  {
   "cell_type": "code",
   "execution_count": 3,
   "metadata": {
    "scrolled": true
   },
   "outputs": [
    {
     "data": {
      "text/html": [
       "<div>\n",
       "<style scoped>\n",
       "    .dataframe tbody tr th:only-of-type {\n",
       "        vertical-align: middle;\n",
       "    }\n",
       "\n",
       "    .dataframe tbody tr th {\n",
       "        vertical-align: top;\n",
       "    }\n",
       "\n",
       "    .dataframe thead th {\n",
       "        text-align: right;\n",
       "    }\n",
       "</style>\n",
       "<table border=\"1\" class=\"dataframe\">\n",
       "  <thead>\n",
       "    <tr style=\"text-align: right;\">\n",
       "      <th></th>\n",
       "      <th>Ticker</th>\n",
       "      <th>Name</th>\n",
       "      <th>Return on Assets</th>\n",
       "      <th>Return on Invested Capital</th>\n",
       "      <th>EBITDA Margin</th>\n",
       "      <th>Net Income Margin</th>\n",
       "      <th>Total Debt</th>\n",
       "      <th>EV/Sales</th>\n",
       "      <th>EV/EBITDA</th>\n",
       "      <th>EV/EBIT</th>\n",
       "      <th>Net Debt/Equity</th>\n",
       "      <th>Net Debt/Capital</th>\n",
       "      <th>sector</th>\n",
       "      <th>sub sector</th>\n",
       "    </tr>\n",
       "  </thead>\n",
       "  <tbody>\n",
       "    <tr>\n",
       "      <td>0</td>\n",
       "      <td>AVGO UW Equity</td>\n",
       "      <td>Broadcom Inc</td>\n",
       "      <td>15.4483</td>\n",
       "      <td>20.1602</td>\n",
       "      <td>58.1484</td>\n",
       "      <td>34.6204</td>\n",
       "      <td>39978.000</td>\n",
       "      <td>6.7835</td>\n",
       "      <td>11.6659</td>\n",
       "      <td>15.8136</td>\n",
       "      <td>121.37</td>\n",
       "      <td>54.8268</td>\n",
       "      <td>Information Technology</td>\n",
       "      <td>Semiconductors</td>\n",
       "    </tr>\n",
       "    <tr>\n",
       "      <td>1</td>\n",
       "      <td>HPQ UN Equity</td>\n",
       "      <td>HP Inc</td>\n",
       "      <td>8.2982</td>\n",
       "      <td>46.1281</td>\n",
       "      <td>9.0326</td>\n",
       "      <td>5.0855</td>\n",
       "      <td>12294.000</td>\n",
       "      <td>0.5750</td>\n",
       "      <td>6.3661</td>\n",
       "      <td>7.6363</td>\n",
       "      <td>—</td>\n",
       "      <td>146.8304</td>\n",
       "      <td>Information Technology</td>\n",
       "      <td>Technology Hardware, Storage &amp;</td>\n",
       "    </tr>\n",
       "    <tr>\n",
       "      <td>2</td>\n",
       "      <td>MPWR UW Equity</td>\n",
       "      <td>Monolithic Power Systems Inc</td>\n",
       "      <td>24.0168</td>\n",
       "      <td>29.4596</td>\n",
       "      <td>31.8245</td>\n",
       "      <td>24.3944</td>\n",
       "      <td>3.797</td>\n",
       "      <td>8.8752</td>\n",
       "      <td>27.8880</td>\n",
       "      <td>30.2218</td>\n",
       "      <td>-43.9935</td>\n",
       "      <td>-78.5506</td>\n",
       "      <td>Information Technology</td>\n",
       "      <td>Semiconductors</td>\n",
       "    </tr>\n",
       "    <tr>\n",
       "      <td>3</td>\n",
       "      <td>IBM UN Equity</td>\n",
       "      <td>International Business Machines Corp</td>\n",
       "      <td>1.2644</td>\n",
       "      <td>16.3830</td>\n",
       "      <td>21.9577</td>\n",
       "      <td>2.7077</td>\n",
       "      <td>54013.000</td>\n",
       "      <td>2.8583</td>\n",
       "      <td>13.0172</td>\n",
       "      <td>22.6647</td>\n",
       "      <td>205.599</td>\n",
       "      <td>67.2774</td>\n",
       "      <td>Information Technology</td>\n",
       "      <td>IT Consulting &amp; Other Services</td>\n",
       "    </tr>\n",
       "    <tr>\n",
       "      <td>4</td>\n",
       "      <td>ADI UW Equity</td>\n",
       "      <td>Analog Devices Inc</td>\n",
       "      <td>5.3565</td>\n",
       "      <td>6.3202</td>\n",
       "      <td>46.9193</td>\n",
       "      <td>22.8781</td>\n",
       "      <td>6939.532</td>\n",
       "      <td>6.5970</td>\n",
       "      <td>14.0603</td>\n",
       "      <td>24.0833</td>\n",
       "      <td>14.9977</td>\n",
       "      <td>13.0417</td>\n",
       "      <td>Information Technology</td>\n",
       "      <td>Semiconductors</td>\n",
       "    </tr>\n",
       "  </tbody>\n",
       "</table>\n",
       "</div>"
      ],
      "text/plain": [
       "           Ticker                                  Name  Return on Assets  \\\n",
       "0  AVGO UW Equity                          Broadcom Inc           15.4483   \n",
       "1   HPQ UN Equity                                HP Inc            8.2982   \n",
       "2  MPWR UW Equity          Monolithic Power Systems Inc           24.0168   \n",
       "3   IBM UN Equity  International Business Machines Corp            1.2644   \n",
       "4   ADI UW Equity                    Analog Devices Inc            5.3565   \n",
       "\n",
       "   Return on Invested Capital  EBITDA Margin  Net Income Margin  Total Debt  \\\n",
       "0                     20.1602        58.1484            34.6204   39978.000   \n",
       "1                     46.1281         9.0326             5.0855   12294.000   \n",
       "2                     29.4596        31.8245            24.3944       3.797   \n",
       "3                     16.3830        21.9577             2.7077   54013.000   \n",
       "4                      6.3202        46.9193            22.8781    6939.532   \n",
       "\n",
       "   EV/Sales  EV/EBITDA  EV/EBIT Net Debt/Equity  Net Debt/Capital  \\\n",
       "0    6.7835    11.6659  15.8136          121.37           54.8268   \n",
       "1    0.5750     6.3661   7.6363               —          146.8304   \n",
       "2    8.8752    27.8880  30.2218        -43.9935          -78.5506   \n",
       "3    2.8583    13.0172  22.6647         205.599           67.2774   \n",
       "4    6.5970    14.0603  24.0833         14.9977           13.0417   \n",
       "\n",
       "                   sector                      sub sector  \n",
       "0  Information Technology                  Semiconductors  \n",
       "1  Information Technology  Technology Hardware, Storage &  \n",
       "2  Information Technology                  Semiconductors  \n",
       "3  Information Technology  IT Consulting & Other Services  \n",
       "4  Information Technology                  Semiconductors  "
      ]
     },
     "execution_count": 3,
     "metadata": {},
     "output_type": "execute_result"
    }
   ],
   "source": [
    "#Display of the first 5 values\n",
    "\n",
    "excel_sheet.head()"
   ]
  },
  {
   "cell_type": "code",
   "execution_count": 4,
   "metadata": {},
   "outputs": [
    {
     "data": {
      "text/plain": [
       "(64, 14)"
      ]
     },
     "execution_count": 4,
     "metadata": {},
     "output_type": "execute_result"
    }
   ],
   "source": [
    "#Dimensions of data table\n",
    "\n",
    "excel_sheet.shape"
   ]
  },
  {
   "cell_type": "code",
   "execution_count": 2,
   "metadata": {},
   "outputs": [],
   "source": [
    "#Display of missing values in NaN\n",
    "\n",
    "excel_sheet = pd.read_excel(r'C:\\Users\\nicol\\Downloads\\data.xlsx',na_values = excel_sheet.loc[1,\"Net Debt/Equity\"])"
   ]
  },
  {
   "cell_type": "code",
   "execution_count": 3,
   "metadata": {},
   "outputs": [
    {
     "data": {
      "text/plain": [
       "Ticker                         object\n",
       "Name                           object\n",
       "Return on Assets              float64\n",
       "Return on Invested Capital    float64\n",
       "EBITDA Margin                 float64\n",
       "Net Income Margin             float64\n",
       "Total Debt                    float64\n",
       "EV/Sales                      float64\n",
       "EV/EBITDA                     float64\n",
       "EV/EBIT                       float64\n",
       "Net Debt/Equity               float64\n",
       "Net Debt/Capital              float64\n",
       "sector                         object\n",
       "sub sector                     object\n",
       "dtype: object"
      ]
     },
     "execution_count": 3,
     "metadata": {},
     "output_type": "execute_result"
    }
   ],
   "source": [
    "excel_sheet.dtypes"
   ]
  },
  {
   "cell_type": "code",
   "execution_count": 7,
   "metadata": {},
   "outputs": [
    {
     "data": {
      "image/png": "[encoded data removed]",
      "text/plain": [
       "<Figure size 432x288 with 2 Axes>"
      ]
     },
     "metadata": {
      "needs_background": "light"
     },
     "output_type": "display_data"
    }
   ],
   "source": [
    "#Display of correlations\n",
    "\n",
    "sns.heatmap(excel_sheet.corr());"
   ]
  },
  {
   "cell_type": "code",
   "execution_count": 8,
   "metadata": {},
   "outputs": [
    {
     "data": {
      "text/html": [
       "<div>\n",
       "<style scoped>\n",
       "    .dataframe tbody tr th:only-of-type {\n",
       "        vertical-align: middle;\n",
       "    }\n",
       "\n",
       "    .dataframe tbody tr th {\n",
       "        vertical-align: top;\n",
       "    }\n",
       "\n",
       "    .dataframe thead th {\n",
       "        text-align: right;\n",
       "    }\n",
       "</style>\n",
       "<table border=\"1\" class=\"dataframe\">\n",
       "  <thead>\n",
       "    <tr style=\"text-align: right;\">\n",
       "      <th></th>\n",
       "      <th>Return on Assets</th>\n",
       "      <th>Return on Invested Capital</th>\n",
       "      <th>EBITDA Margin</th>\n",
       "      <th>Net Income Margin</th>\n",
       "      <th>Total Debt</th>\n",
       "      <th>EV/Sales</th>\n",
       "      <th>EV/EBITDA</th>\n",
       "      <th>EV/EBIT</th>\n",
       "      <th>Net Debt/Equity</th>\n",
       "      <th>Net Debt/Capital</th>\n",
       "    </tr>\n",
       "  </thead>\n",
       "  <tbody>\n",
       "    <tr>\n",
       "      <td>count</td>\n",
       "      <td>64.000000</td>\n",
       "      <td>64.000000</td>\n",
       "      <td>64.000000</td>\n",
       "      <td>64.000000</td>\n",
       "      <td>64.000000</td>\n",
       "      <td>64.000000</td>\n",
       "      <td>64.000000</td>\n",
       "      <td>63.000000</td>\n",
       "      <td>58.000000</td>\n",
       "      <td>64.000000</td>\n",
       "    </tr>\n",
       "    <tr>\n",
       "      <td>mean</td>\n",
       "      <td>12.774103</td>\n",
       "      <td>25.727208</td>\n",
       "      <td>29.588058</td>\n",
       "      <td>19.084250</td>\n",
       "      <td>10838.366516</td>\n",
       "      <td>5.733438</td>\n",
       "      <td>21.273294</td>\n",
       "      <td>35.853287</td>\n",
       "      <td>193.458274</td>\n",
       "      <td>16.755269</td>\n",
       "    </tr>\n",
       "    <tr>\n",
       "      <td>std</td>\n",
       "      <td>8.667228</td>\n",
       "      <td>50.231191</td>\n",
       "      <td>13.190963</td>\n",
       "      <td>13.385115</td>\n",
       "      <td>22164.202952</td>\n",
       "      <td>4.017517</td>\n",
       "      <td>16.862600</td>\n",
       "      <td>52.516248</td>\n",
       "      <td>806.073531</td>\n",
       "      <td>79.685336</td>\n",
       "    </tr>\n",
       "    <tr>\n",
       "      <td>min</td>\n",
       "      <td>-0.563900</td>\n",
       "      <td>-7.241000</td>\n",
       "      <td>7.449400</td>\n",
       "      <td>-1.686200</td>\n",
       "      <td>3.797000</td>\n",
       "      <td>0.575000</td>\n",
       "      <td>3.496100</td>\n",
       "      <td>6.085100</td>\n",
       "      <td>-142.482100</td>\n",
       "      <td>-260.834600</td>\n",
       "    </tr>\n",
       "    <tr>\n",
       "      <td>25%</td>\n",
       "      <td>6.124150</td>\n",
       "      <td>8.168275</td>\n",
       "      <td>20.532750</td>\n",
       "      <td>10.692675</td>\n",
       "      <td>1704.275000</td>\n",
       "      <td>2.885450</td>\n",
       "      <td>10.675300</td>\n",
       "      <td>14.512400</td>\n",
       "      <td>-14.472525</td>\n",
       "      <td>-10.589225</td>\n",
       "    </tr>\n",
       "    <tr>\n",
       "      <td>50%</td>\n",
       "      <td>11.315750</td>\n",
       "      <td>16.782100</td>\n",
       "      <td>27.984950</td>\n",
       "      <td>16.214100</td>\n",
       "      <td>3952.450000</td>\n",
       "      <td>4.554800</td>\n",
       "      <td>15.932250</td>\n",
       "      <td>22.664200</td>\n",
       "      <td>19.976800</td>\n",
       "      <td>20.804200</td>\n",
       "    </tr>\n",
       "    <tr>\n",
       "      <td>75%</td>\n",
       "      <td>17.664175</td>\n",
       "      <td>29.513050</td>\n",
       "      <td>39.086450</td>\n",
       "      <td>25.306450</td>\n",
       "      <td>7609.250000</td>\n",
       "      <td>7.966975</td>\n",
       "      <td>23.516100</td>\n",
       "      <td>33.902650</td>\n",
       "      <td>49.664775</td>\n",
       "      <td>44.902725</td>\n",
       "    </tr>\n",
       "    <tr>\n",
       "      <td>max</td>\n",
       "      <td>36.253100</td>\n",
       "      <td>405.169000</td>\n",
       "      <td>69.478600</td>\n",
       "      <td>84.602900</td>\n",
       "      <td>132480.000000</td>\n",
       "      <td>20.918200</td>\n",
       "      <td>85.250000</td>\n",
       "      <td>376.373200</td>\n",
       "      <td>4661.467900</td>\n",
       "      <td>335.393300</td>\n",
       "    </tr>\n",
       "  </tbody>\n",
       "</table>\n",
       "</div>"
      ],
      "text/plain": [
       "       Return on Assets  Return on Invested Capital  EBITDA Margin  \\\n",
       "count         64.000000                   64.000000      64.000000   \n",
       "mean          12.774103                   25.727208      29.588058   \n",
       "std            8.667228                   50.231191      13.190963   \n",
       "min           -0.563900                   -7.241000       7.449400   \n",
       "25%            6.124150                    8.168275      20.532750   \n",
       "50%           11.315750                   16.782100      27.984950   \n",
       "75%           17.664175                   29.513050      39.086450   \n",
       "max           36.253100                  405.169000      69.478600   \n",
       "\n",
       "       Net Income Margin     Total Debt   EV/Sales  EV/EBITDA     EV/EBIT  \\\n",
       "count          64.000000      64.000000  64.000000  64.000000   63.000000   \n",
       "mean           19.084250   10838.366516   5.733438  21.273294   35.853287   \n",
       "std            13.385115   22164.202952   4.017517  16.862600   52.516248   \n",
       "min            -1.686200       3.797000   0.575000   3.496100    6.085100   \n",
       "25%            10.692675    1704.275000   2.885450  10.675300   14.512400   \n",
       "50%            16.214100    3952.450000   4.554800  15.932250   22.664200   \n",
       "75%            25.306450    7609.250000   7.966975  23.516100   33.902650   \n",
       "max            84.602900  132480.000000  20.918200  85.250000  376.373200   \n",
       "\n",
       "       Net Debt/Equity  Net Debt/Capital  \n",
       "count        58.000000         64.000000  \n",
       "mean        193.458274         16.755269  \n",
       "std         806.073531         79.685336  \n",
       "min        -142.482100       -260.834600  \n",
       "25%         -14.472525        -10.589225  \n",
       "50%          19.976800         20.804200  \n",
       "75%          49.664775         44.902725  \n",
       "max        4661.467900        335.393300  "
      ]
     },
     "execution_count": 8,
     "metadata": {},
     "output_type": "execute_result"
    }
   ],
   "source": [
    "#Decription of the differents columns (ratios)\n",
    "\n",
    "excel_sheet.describe()"
   ]
  },
  {
   "cell_type": "code",
   "execution_count": 9,
   "metadata": {},
   "outputs": [
    {
     "data": {
      "text/plain": [
       "Ticker                        0\n",
       "Name                          0\n",
       "Return on Assets              0\n",
       "Return on Invested Capital    0\n",
       "EBITDA Margin                 0\n",
       "Net Income Margin             0\n",
       "Total Debt                    0\n",
       "EV/Sales                      0\n",
       "EV/EBITDA                     0\n",
       "EV/EBIT                       1\n",
       "Net Debt/Equity               6\n",
       "Net Debt/Capital              0\n",
       "sector                        0\n",
       "sub sector                    0\n",
       "dtype: int64"
      ]
     },
     "execution_count": 9,
     "metadata": {},
     "output_type": "execute_result"
    }
   ],
   "source": [
    "#Number of missing values per column\n",
    "\n",
    "excel_sheet.isna().sum()"
   ]
  },
  {
   "cell_type": "code",
   "execution_count": 10,
   "metadata": {},
   "outputs": [
    {
     "data": {
      "text/plain": [
       "array(['Information Technology'], dtype=object)"
      ]
     },
     "execution_count": 10,
     "metadata": {},
     "output_type": "execute_result"
    }
   ],
   "source": [
    "#First remarks\n",
    "\n",
    "excel_sheet.sector.unique()"
   ]
  },
  {
   "cell_type": "code",
   "execution_count": 11,
   "metadata": {},
   "outputs": [
    {
     "data": {
      "text/plain": [
       "array(['Semiconductors', 'Technology Hardware, Storage &',\n",
       "       'IT Consulting & Other Services', 'Communications Equipment',\n",
       "       'Systems Software', 'Semiconductor Materials & Equi',\n",
       "       'Electronic Components', 'Technology Distributors',\n",
       "       'Electronic Equipment & Instrum', 'Application Software',\n",
       "       'Internet Services & Infrastruc', 'Electronic Manufacturing Servi'],\n",
       "      dtype=object)"
      ]
     },
     "execution_count": 11,
     "metadata": {},
     "output_type": "execute_result"
    }
   ],
   "source": [
    "excel_sheet['sub sector'].unique()"
   ]
  },
  {
   "cell_type": "code",
   "execution_count": 12,
   "metadata": {},
   "outputs": [
    {
     "data": {
      "text/plain": [
       "12"
      ]
     },
     "execution_count": 12,
     "metadata": {},
     "output_type": "execute_result"
    }
   ],
   "source": [
    "len(excel_sheet['sub sector'].unique())"
   ]
  },
  {
   "cell_type": "code",
   "execution_count": 13,
   "metadata": {},
   "outputs": [
    {
     "data": {
      "text/plain": [
       "[<matplotlib.lines.Line2D at 0x1ef3063aec8>]"
      ]
     },
     "execution_count": 13,
     "metadata": {},
     "output_type": "execute_result"
    },
    {
     "data": {
      "image/png": "[encoded data removed]",
      "text/plain": [
       "<Figure size 432x288 with 1 Axes>"
      ]
     },
     "metadata": {
      "needs_background": "light"
     },
     "output_type": "display_data"
    }
   ],
   "source": [
    "#There are 12 sub-sectors of activity represented \n",
    "#The objective is to use an unsupervised learning technique (KMeans) to find the appropriate number of clusters K\n",
    "#We use the Elbow method to determine K\n",
    "#The elbow method is used by running several k-means, increment k with each iteration, and record the SSE \n",
    "#𝑆𝑆𝐸=𝑆𝑢𝑚 𝑂𝑓 𝐸𝑢𝑐𝑙𝑖𝑑𝑒𝑎𝑛 𝑆𝑞𝑢𝑎𝑟𝑒𝑑 𝐷𝑖𝑠𝑡𝑎𝑛𝑐𝑒𝑠 𝑜𝑓 𝑒𝑎𝑐ℎ 𝑝𝑜𝑖𝑛𝑡 𝑡𝑜 𝑖𝑡𝑠 𝑐𝑙𝑜𝑠𝑒𝑠𝑡 𝑐𝑒𝑛𝑡𝑟𝑜𝑖𝑑 (decreasing function of K)\n",
    "\n",
    "from sklearn.cluster import KMeans\n",
    "\n",
    "var = []\n",
    "for i in range(2,12):\n",
    "    group = KMeans(n_clusters=i).fit(excel_sheet.select_dtypes(\"number\").dropna())\n",
    "    var.append(group.inertia_)\n",
    "    \n",
    "\n",
    "plt.plot(range(2,12),var)"
   ]
  },
  {
   "cell_type": "code",
   "execution_count": 14,
   "metadata": {},
   "outputs": [
    {
     "name": "stdout",
     "output_type": "stream",
     "text": [
      "Requirement already satisfied: kneed in c:\\users\\nicol\\anaconda3\\lib\\site-packages (0.8.3)\n",
      "Requirement already satisfied: numpy>=1.14.2 in c:\\users\\nicol\\anaconda3\\lib\\site-packages (from kneed) (1.16.5)\n",
      "Requirement already satisfied: scipy>=1.0.0 in c:\\users\\nicol\\anaconda3\\lib\\site-packages (from kneed) (1.3.1)\n"
     ]
    }
   ],
   "source": [
    "!pip install kneed"
   ]
  },
  {
   "cell_type": "code",
   "execution_count": 15,
   "metadata": {},
   "outputs": [],
   "source": [
    "import kneed"
   ]
  },
  {
   "cell_type": "code",
   "execution_count": 16,
   "metadata": {},
   "outputs": [
    {
     "name": "stdout",
     "output_type": "stream",
     "text": [
      "Elbow = 4\n"
     ]
    }
   ],
   "source": [
    "# get elbow programmatically\n",
    "from kneed import KneeLocator \n",
    "kl = KneeLocator(\n",
    "range(2,12), var, curve=\"convex\", direction=\"decreasing\")\n",
    "elbow=kl.elbow\n",
    "print('Elbow = {}'.format(elbow))"
   ]
  },
  {
   "cell_type": "code",
   "execution_count": 17,
   "metadata": {},
   "outputs": [],
   "source": [
    "# We apply KMeans for the Elbow's value  ( in this case = 4)\n",
    "kmeans = KMeans(n_clusters=elbow)\n",
    "km = kmeans.fit(excel_sheet.select_dtypes(\"number\").dropna())\n",
    "\n",
    "dropna = excel_sheet.select_dtypes(\"number\").dropna()\n",
    "dropna[\"cluster\"] = km.labels_"
   ]
  },
  {
   "cell_type": "code",
   "execution_count": 18,
   "metadata": {},
   "outputs": [
    {
     "data": {
      "image/png": "[encoded data removed]",
      "text/plain": [
       "<Figure size 432x288 with 1 Axes>"
      ]
     },
     "metadata": {
      "needs_background": "light"
     },
     "output_type": "display_data"
    }
   ],
   "source": [
    "sns.scatterplot(x=\"Return on Assets\", y=\"Total Debt\", hue=\"cluster\", data=dropna);"
   ]
  },
  {
   "cell_type": "code",
   "execution_count": 19,
   "metadata": {},
   "outputs": [
    {
     "data": {
      "text/plain": [
       "0    52\n",
       "2     3\n",
       "3     1\n",
       "1     1\n",
       "Name: cluster, dtype: int64"
      ]
     },
     "execution_count": 19,
     "metadata": {},
     "output_type": "execute_result"
    }
   ],
   "source": [
    "dropna[\"cluster\"].value_counts()"
   ]
  },
  {
   "cell_type": "code",
   "execution_count": 20,
   "metadata": {},
   "outputs": [
    {
     "data": {
      "text/html": [
       "<div>\n",
       "<style scoped>\n",
       "    .dataframe tbody tr th:only-of-type {\n",
       "        vertical-align: middle;\n",
       "    }\n",
       "\n",
       "    .dataframe tbody tr th {\n",
       "        vertical-align: top;\n",
       "    }\n",
       "\n",
       "    .dataframe thead th {\n",
       "        text-align: right;\n",
       "    }\n",
       "</style>\n",
       "<table border=\"1\" class=\"dataframe\">\n",
       "  <thead>\n",
       "    <tr style=\"text-align: right;\">\n",
       "      <th></th>\n",
       "      <th>Return on Assets</th>\n",
       "      <th>Return on Invested Capital</th>\n",
       "      <th>EBITDA Margin</th>\n",
       "      <th>Net Income Margin</th>\n",
       "      <th>Total Debt</th>\n",
       "      <th>EV/Sales</th>\n",
       "      <th>EV/EBITDA</th>\n",
       "      <th>EV/EBIT</th>\n",
       "      <th>Net Debt/Equity</th>\n",
       "      <th>Net Debt/Capital</th>\n",
       "      <th>cluster</th>\n",
       "    </tr>\n",
       "  </thead>\n",
       "  <tbody>\n",
       "    <tr>\n",
       "      <td>7</td>\n",
       "      <td>20.8234</td>\n",
       "      <td>31.7364</td>\n",
       "      <td>50.5896</td>\n",
       "      <td>36.6863</td>\n",
       "      <td>78400.0</td>\n",
       "      <td>9.5356</td>\n",
       "      <td>18.8489</td>\n",
       "      <td>22.6019</td>\n",
       "      <td>-15.826</td>\n",
       "      <td>-18.8016</td>\n",
       "      <td>1</td>\n",
       "    </tr>\n",
       "  </tbody>\n",
       "</table>\n",
       "</div>"
      ],
      "text/plain": [
       "   Return on Assets  Return on Invested Capital  EBITDA Margin  \\\n",
       "7           20.8234                     31.7364        50.5896   \n",
       "\n",
       "   Net Income Margin  Total Debt  EV/Sales  EV/EBITDA  EV/EBIT  \\\n",
       "7            36.6863     78400.0    9.5356    18.8489  22.6019   \n",
       "\n",
       "   Net Debt/Equity  Net Debt/Capital  cluster  \n",
       "7          -15.826          -18.8016        1  "
      ]
     },
     "execution_count": 20,
     "metadata": {},
     "output_type": "execute_result"
    }
   ],
   "source": [
    "dropna[dropna[\"cluster\"]==1]"
   ]
  },
  {
   "cell_type": "code",
   "execution_count": 21,
   "metadata": {},
   "outputs": [
    {
     "data": {
      "text/plain": [
       "[<matplotlib.lines.Line2D at 0x1ef311a9a48>]"
      ]
     },
     "execution_count": 21,
     "metadata": {},
     "output_type": "execute_result"
    },
    {
     "data": {
      "image/png": "[encoded data removed]",
      "text/plain": [
       "<Figure size 432x288 with 1 Axes>"
      ]
     },
     "metadata": {
      "needs_background": "light"
     },
     "output_type": "display_data"
    }
   ],
   "source": [
    "var2 = []\n",
    "for i in range(2,40):\n",
    "    group2 = KMeans(n_clusters=i).fit(excel_sheet[['Return on Assets', 'Return on Invested Capital', 'EBITDA Margin']])\n",
    "    var2.append(group2.inertia_)\n",
    "    \n",
    "\n",
    "plt.plot(range(2,40),var2)"
   ]
  },
  {
   "cell_type": "code",
   "execution_count": 22,
   "metadata": {},
   "outputs": [
    {
     "name": "stdout",
     "output_type": "stream",
     "text": [
      "Elbow = 7\n"
     ]
    }
   ],
   "source": [
    "# get elbow programmatically\n",
    "from kneed import KneeLocator \n",
    "kl2 = KneeLocator(\n",
    "range(2,40), var2, curve=\"convex\", direction=\"decreasing\")\n",
    "elbow2=kl2.elbow\n",
    "print('Elbow = {}'.format(elbow2))"
   ]
  },
  {
   "cell_type": "code",
   "execution_count": 23,
   "metadata": {},
   "outputs": [],
   "source": [
    "# We apply KMeans for the Elbow's value  ( in this case = 4)\n",
    "kmeans = KMeans(n_clusters=elbow2)\n",
    "km2 = kmeans.fit(excel_sheet[['Return on Assets', 'Return on Invested Capital', 'EBITDA Margin']])\n",
    "excel_sheet[\"cluster\"]=km2.labels_"
   ]
  },
  {
   "cell_type": "code",
   "execution_count": 24,
   "metadata": {},
   "outputs": [
    {
     "data": {
      "image/png": "[encoded data removed]",
      "text/plain": [
       "<Figure size 432x288 with 1 Axes>"
      ]
     },
     "metadata": {
      "needs_background": "light"
     },
     "output_type": "display_data"
    }
   ],
   "source": [
    "sns.scatterplot(x=\"Return on Assets\", y=\"Return on Invested Capital\", hue=\"cluster\", data=excel_sheet);"
   ]
  },
  {
   "cell_type": "code",
   "execution_count": 33,
   "metadata": {},
   "outputs": [
    {
     "data": {
      "text/plain": [
       "(63, 15)"
      ]
     },
     "execution_count": 33,
     "metadata": {},
     "output_type": "execute_result"
    }
   ],
   "source": [
    "excel_sheet2= excel_sheet.drop(41,axis=0)\n",
    "excel_sheet2.shape\n",
    "#sns.scatterplot(x=\"Return on Invested Capital\", y=\"EBITDA Margin\", hue=\"cluster\", data=excel_sheet);"
   ]
  },
  {
   "cell_type": "code",
   "execution_count": 34,
   "metadata": {},
   "outputs": [
    {
     "data": {
      "image/png": "[encoded data removed]",
      "text/plain": [
       "<Figure size 432x288 with 1 Axes>"
      ]
     },
     "metadata": {
      "needs_background": "light"
     },
     "output_type": "display_data"
    }
   ],
   "source": [
    "sns.scatterplot(x='Return on Invested Capital', y='EBITDA Margin', hue='cluster', data=excel_sheet2);"
   ]
  },
  {
   "cell_type": "code",
   "execution_count": 35,
   "metadata": {},
   "outputs": [
    {
     "data": {
      "text/plain": [
       "5    15\n",
       "2    15\n",
       "6    10\n",
       "3    10\n",
       "4     9\n",
       "0     4\n",
       "Name: cluster, dtype: int64"
      ]
     },
     "execution_count": 35,
     "metadata": {},
     "output_type": "execute_result"
    }
   ],
   "source": [
    "excel_sheet2['cluster'].value_counts()"
   ]
  },
  {
   "cell_type": "code",
   "execution_count": 36,
   "metadata": {},
   "outputs": [],
   "source": [
    "km3 = kmeans.fit(excel_sheet[['Return on Assets', 'Return on Invested Capital', 'EBITDA Margin', 'Net Income Margin', 'EV/EBITDA']])\n",
    "excel_sheet[\"cluster\"]=km3.labels_"
   ]
  },
  {
   "cell_type": "code",
   "execution_count": 37,
   "metadata": {},
   "outputs": [],
   "source": [
    "excel_sheet2= excel_sheet.drop(41,axis=0)"
   ]
  },
  {
   "cell_type": "code",
   "execution_count": 38,
   "metadata": {},
   "outputs": [
    {
     "data": {
      "image/png": "[encoded data removed]",
      "text/plain": [
       "<Figure size 432x288 with 1 Axes>"
      ]
     },
     "metadata": {
      "needs_background": "light"
     },
     "output_type": "display_data"
    }
   ],
   "source": [
    "sns.scatterplot(x='Return on Invested Capital', y='EBITDA Margin', hue='cluster', data=excel_sheet2);"
   ]
  },
  {
   "cell_type": "code",
   "execution_count": 39,
   "metadata": {},
   "outputs": [
    {
     "data": {
      "image/png": "[encoded data removed]",
      "text/plain": [
       "<Figure size 432x288 with 1 Axes>"
      ]
     },
     "metadata": {
      "needs_background": "light"
     },
     "output_type": "display_data"
    }
   ],
   "source": [
    "sns.scatterplot(x='Return on Invested Capital', y='Net Income Margin', hue='cluster', data=excel_sheet2);"
   ]
  },
  {
   "cell_type": "code",
   "execution_count": 41,
   "metadata": {},
   "outputs": [
    {
     "data": {
      "text/plain": [
       "[<matplotlib.lines.Line2D at 0x1ef3274e7c8>]"
      ]
     },
     "execution_count": 41,
     "metadata": {},
     "output_type": "execute_result"
    },
    {
     "data": {
      "image/png": "[encoded data removed]",
      "text/plain": [
       "<Figure size 432x288 with 1 Axes>"
      ]
     },
     "metadata": {
      "needs_background": "light"
     },
     "output_type": "display_data"
    }
   ],
   "source": [
    "var2 = []\n",
    "for i in range(2,40):\n",
    "    group2 = KMeans(n_clusters=i).fit(excel_sheet[['Return on Assets', 'Return on Invested Capital', 'EBITDA Margin', 'Net Income Margin', 'EV/EBITDA']])\n",
    "    var2.append(group2.inertia_)\n",
    "    \n",
    "\n",
    "plt.plot(range(2,40),var2)"
   ]
  },
  {
   "cell_type": "code",
   "execution_count": 42,
   "metadata": {},
   "outputs": [
    {
     "name": "stdout",
     "output_type": "stream",
     "text": [
      "Elbow = 9\n"
     ]
    }
   ],
   "source": [
    "# get elbow programmatically\n",
    "from kneed import KneeLocator \n",
    "kl2 = KneeLocator(\n",
    "range(2,40), var2, curve=\"convex\", direction=\"decreasing\")\n",
    "elbow2=kl2.elbow\n",
    "print('Elbow = {}'.format(elbow2))"
   ]
  },
  {
   "cell_type": "code",
   "execution_count": 43,
   "metadata": {},
   "outputs": [],
   "source": [
    "km3 = KMeans(n_clusters=elbow2).fit(excel_sheet[['Return on Assets', 'Return on Invested Capital', 'EBITDA Margin', 'Net Income Margin', 'EV/EBITDA']])\n",
    "excel_sheet[\"cluster\"]=km3.labels_"
   ]
  },
  {
   "cell_type": "code",
   "execution_count": 45,
   "metadata": {},
   "outputs": [
    {
     "data": {
      "image/png": "[encoded data removed]",
      "text/plain": [
       "<Figure size 432x288 with 1 Axes>"
      ]
     },
     "metadata": {
      "needs_background": "light"
     },
     "output_type": "display_data"
    }
   ],
   "source": [
    "excel_sheet2= excel_sheet.drop(41,axis=0)\n",
    "sns.scatterplot(x='Return on Invested Capital', y='EBITDA Margin', hue='cluster', data=excel_sheet2);"
   ]
  },
  {
   "cell_type": "code",
   "execution_count": 4,
   "metadata": {},
   "outputs": [],
   "source": [
    "#For standardizing features, We'll use the StandardScaler module\n",
    "from sklearn.preprocessing import StandardScaler"
   ]
  },
  {
   "cell_type": "code",
   "execution_count": 5,
   "metadata": {},
   "outputs": [],
   "source": [
    "scaler=StandardScaler()\n",
    "excel_sheet_std = scaler.fit_transform(excel_sheet.select_dtypes('number').dropna())"
   ]
  },
  {
   "cell_type": "code",
   "execution_count": 6,
   "metadata": {},
   "outputs": [
    {
     "data": {
      "text/plain": [
       "57"
      ]
     },
     "execution_count": 6,
     "metadata": {},
     "output_type": "execute_result"
    }
   ],
   "source": [
    "len(excel_sheet_std)"
   ]
  },
  {
   "cell_type": "code",
   "execution_count": 7,
   "metadata": {},
   "outputs": [],
   "source": [
    "from sklearn.decomposition import PCA"
   ]
  },
  {
   "cell_type": "code",
   "execution_count": 8,
   "metadata": {},
   "outputs": [
    {
     "data": {
      "text/plain": [
       "PCA(copy=True, iterated_power='auto', n_components=None, random_state=None,\n",
       "    svd_solver='auto', tol=0.0, whiten=False)"
      ]
     },
     "execution_count": 8,
     "metadata": {},
     "output_type": "execute_result"
    }
   ],
   "source": [
    "pca = PCA()\n",
    "pca.fit(excel_sheet_std)"
   ]
  },
  {
   "cell_type": "code",
   "execution_count": 9,
   "metadata": {},
   "outputs": [
    {
     "data": {
      "text/plain": [
       "array([0.33203952, 0.23355588, 0.12415927, 0.11122357, 0.07219803,\n",
       "       0.04944071, 0.04043661, 0.02495641, 0.0087328 , 0.0032572 ])"
      ]
     },
     "execution_count": 9,
     "metadata": {},
     "output_type": "execute_result"
    }
   ],
   "source": [
    "pca.explained_variance_ratio_"
   ]
  },
  {
   "cell_type": "code",
   "execution_count": 10,
   "metadata": {},
   "outputs": [
    {
     "data": {
      "text/plain": [
       "array([ 0.35339628,  0.13231467,  2.41814168,  1.20536476,  1.39011194,\n",
       "        0.31700687, -0.54512366, -0.39457102, -0.09458647,  0.5960615 ])"
      ]
     },
     "execution_count": 10,
     "metadata": {},
     "output_type": "execute_result"
    }
   ],
   "source": [
    "excel_sheet_std[0]"
   ]
  },
  {
   "cell_type": "code",
   "execution_count": 11,
   "metadata": {},
   "outputs": [
    {
     "data": {
      "text/plain": [
       "Ticker                         object\n",
       "Name                           object\n",
       "Return on Assets              float64\n",
       "Return on Invested Capital    float64\n",
       "EBITDA Margin                 float64\n",
       "Net Income Margin             float64\n",
       "Total Debt                    float64\n",
       "EV/Sales                      float64\n",
       "EV/EBITDA                     float64\n",
       "EV/EBIT                       float64\n",
       "Net Debt/Equity               float64\n",
       "Net Debt/Capital              float64\n",
       "sector                         object\n",
       "sub sector                     object\n",
       "dtype: object"
      ]
     },
     "execution_count": 11,
     "metadata": {},
     "output_type": "execute_result"
    }
   ],
   "source": [
    "excel_sheet.dtypes"
   ]
  },
  {
   "cell_type": "code",
   "execution_count": 12,
   "metadata": {},
   "outputs": [
    {
     "data": {
      "text/plain": [
       "Ticker                         object\n",
       "Name                           object\n",
       "Return on Assets              float64\n",
       "Return on Invested Capital    float64\n",
       "EBITDA Margin                 float64\n",
       "Net Income Margin             float64\n",
       "Total Debt                    float64\n",
       "EV/Sales                      float64\n",
       "EV/EBITDA                     float64\n",
       "EV/EBIT                        object\n",
       "Net Debt/Equity                object\n",
       "Net Debt/Capital              float64\n",
       "sector                         object\n",
       "sub sector                     object\n",
       "dtype: object"
      ]
     },
     "execution_count": 12,
     "metadata": {},
     "output_type": "execute_result"
    }
   ],
   "source": [
    "excel_sheet = pd.read_excel(r'C:\\Users\\nicol\\Downloads\\data.xlsx')\n",
    "excel_sheet.dtypes"
   ]
  },
  {
   "cell_type": "code",
   "execution_count": 13,
   "metadata": {},
   "outputs": [],
   "source": [
    "excel_sheet = pd.read_excel(r'C:\\Users\\nicol\\Downloads\\data.xlsx',na_values = excel_sheet.loc[1,\"Net Debt/Equity\"])"
   ]
  },
  {
   "cell_type": "code",
   "execution_count": 14,
   "metadata": {},
   "outputs": [
    {
     "data": {
      "text/plain": [
       "Ticker                         object\n",
       "Name                           object\n",
       "Return on Assets              float64\n",
       "Return on Invested Capital    float64\n",
       "EBITDA Margin                 float64\n",
       "Net Income Margin             float64\n",
       "Total Debt                    float64\n",
       "EV/Sales                      float64\n",
       "EV/EBITDA                     float64\n",
       "EV/EBIT                       float64\n",
       "Net Debt/Equity               float64\n",
       "Net Debt/Capital              float64\n",
       "sector                         object\n",
       "sub sector                     object\n",
       "dtype: object"
      ]
     },
     "execution_count": 14,
     "metadata": {},
     "output_type": "execute_result"
    }
   ],
   "source": [
    "excel_sheet.dtypes"
   ]
  },
  {
   "cell_type": "code",
   "execution_count": 15,
   "metadata": {},
   "outputs": [],
   "source": [
    "from sklearn.preprocessing import StandardScaler"
   ]
  },
  {
   "cell_type": "code",
   "execution_count": 16,
   "metadata": {},
   "outputs": [],
   "source": [
    "scaler=StandardScaler()\n",
    "excel_sheet_std = scaler.fit_transform(excel_sheet.select_dtypes('number').dropna())"
   ]
  },
  {
   "cell_type": "code",
   "execution_count": 17,
   "metadata": {},
   "outputs": [
    {
     "data": {
      "text/plain": [
       "array([[ 0.35339628,  0.13231467,  2.41814168,  1.20536476,  1.39011194,\n",
       "         0.31700687, -0.54512366, -0.39457102, -0.09458647,  0.5960615 ],\n",
       "       [ 1.40525687,  0.86601313,  0.223024  ,  0.42027733, -0.48880927,\n",
       "         0.85216863,  0.40909318, -0.13014037, -0.29988787, -1.21265816],\n",
       "       [-1.38780528, -0.16569658, -0.59975633, -1.24468998,  2.04980387,\n",
       "        -0.68725615, -0.46563745, -0.26883423,  0.00998466,  0.76490304]])"
      ]
     },
     "execution_count": 17,
     "metadata": {},
     "output_type": "execute_result"
    }
   ],
   "source": [
    "excel_sheet_std[0:3]"
   ]
  },
  {
   "cell_type": "code",
   "execution_count": 18,
   "metadata": {},
   "outputs": [],
   "source": [
    "from sklearn.decomposition import PCA"
   ]
  },
  {
   "cell_type": "code",
   "execution_count": 19,
   "metadata": {},
   "outputs": [
    {
     "data": {
      "text/plain": [
       "PCA(copy=True, iterated_power='auto', n_components=None, random_state=None,\n",
       "    svd_solver='auto', tol=0.0, whiten=False)"
      ]
     },
     "execution_count": 19,
     "metadata": {},
     "output_type": "execute_result"
    }
   ],
   "source": [
    "pca = PCA()\n",
    "pca.fit(excel_sheet_std)"
   ]
  },
  {
   "cell_type": "code",
   "execution_count": 20,
   "metadata": {},
   "outputs": [
    {
     "data": {
      "text/plain": [
       "array([0.33203952, 0.23355588, 0.12415927, 0.11122357, 0.07219803,\n",
       "       0.04944071, 0.04043661, 0.02495641, 0.0087328 , 0.0032572 ])"
      ]
     },
     "execution_count": 20,
     "metadata": {},
     "output_type": "execute_result"
    }
   ],
   "source": [
    "pca.explained_variance_ratio_"
   ]
  },
  {
   "cell_type": "code",
   "execution_count": 21,
   "metadata": {},
   "outputs": [
    {
     "data": {
      "text/plain": [
       "Text(0, 0.5, 'Cumulative Explained Variance')"
      ]
     },
     "execution_count": 21,
     "metadata": {},
     "output_type": "execute_result"
    },
    {
     "data": {
      "image/png": "[encoded data removed]",
      "text/plain": [
       "<Figure size 432x288 with 1 Axes>"
      ]
     },
     "metadata": {
      "needs_background": "light"
     },
     "output_type": "display_data"
    }
   ],
   "source": [
    "plt.plot(range(1,11),pca.explained_variance_ratio_.cumsum())\n",
    "plt.title('Explained Variance by Components')\n",
    "plt.xlabel('Number of Components')\n",
    "plt.ylabel('Cumulative Explained Variance')"
   ]
  },
  {
   "cell_type": "code",
   "execution_count": 22,
   "metadata": {},
   "outputs": [],
   "source": [
    "pca = PCA(n_components = 4)"
   ]
  },
  {
   "cell_type": "code",
   "execution_count": 23,
   "metadata": {},
   "outputs": [
    {
     "data": {
      "text/plain": [
       "PCA(copy=True, iterated_power='auto', n_components=4, random_state=None,\n",
       "    svd_solver='auto', tol=0.0, whiten=False)"
      ]
     },
     "execution_count": 23,
     "metadata": {},
     "output_type": "execute_result"
    }
   ],
   "source": [
    "pca.fit(excel_sheet_std)"
   ]
  },
  {
   "cell_type": "code",
   "execution_count": 24,
   "metadata": {},
   "outputs": [],
   "source": [
    "result_pca = pca.transform(excel_sheet_std)"
   ]
  },
  {
   "cell_type": "code",
   "execution_count": 25,
   "metadata": {},
   "outputs": [
    {
     "data": {
      "text/plain": [
       "Text(0.5, 1.0, 'KMeans with PCA Clustering')"
      ]
     },
     "execution_count": 25,
     "metadata": {},
     "output_type": "execute_result"
    },
    {
     "data": {
      "image/png": "[encoded data removed]",
      "text/plain": [
       "<Figure size 432x288 with 1 Axes>"
      ]
     },
     "metadata": {
      "needs_background": "light"
     },
     "output_type": "display_data"
    }
   ],
   "source": [
    "from sklearn.cluster import KMeans\n",
    "\n",
    "var_pca = []\n",
    "for i in range(2,20):\n",
    "    kmeans_pca = KMeans(n_clusters=i)\n",
    "    kmeans_pca.fit(result_pca)\n",
    "    var_pca.append(kmeans_pca.inertia_)\n",
    "    \n",
    "\n",
    "plt.plot(range(2,20),var_pca,marker='o')\n",
    "plt.xlabel('Number of Clusters')\n",
    "plt.ylabel('Sum of Squares')\n",
    "plt.title('KMeans with PCA Clustering')"
   ]
  },
  {
   "cell_type": "code",
   "execution_count": 26,
   "metadata": {},
   "outputs": [
    {
     "name": "stdout",
     "output_type": "stream",
     "text": [
      "Elbow = 6\n"
     ]
    }
   ],
   "source": [
    "# get elbow programmatically\n",
    "from kneed import KneeLocator \n",
    "kl = KneeLocator(\n",
    "range(2,20), var_pca, curve=\"convex\", direction=\"decreasing\")\n",
    "elbow=kl.elbow\n",
    "print('Elbow = {}'.format(elbow))"
   ]
  },
  {
   "cell_type": "code",
   "execution_count": 27,
   "metadata": {},
   "outputs": [
    {
     "data": {
      "text/plain": [
       "KMeans(algorithm='auto', copy_x=True, init='k-means++', max_iter=300,\n",
       "       n_clusters=6, n_init=10, n_jobs=None, precompute_distances='auto',\n",
       "       random_state=None, tol=0.0001, verbose=0)"
      ]
     },
     "execution_count": 27,
     "metadata": {},
     "output_type": "execute_result"
    }
   ],
   "source": [
    "kmeans_pca = KMeans(n_clusters=6)\n",
    "kmeans_pca.fit(result_pca)"
   ]
  },
  {
   "cell_type": "code",
   "execution_count": 38,
   "metadata": {},
   "outputs": [],
   "source": [
    "excel_sheet_pca = pd.concat([excel_sheet.dropna().reset_index(drop=True), pd.DataFrame(result_pca)],axis=1)\n",
    "excel_sheet_pca.columns.values[-4:] = ['Component 1', 'Component 2', 'Component 3', 'Component 4']\n",
    "excel_sheet_pca['PCA cluster'] = kmeans_pca.labels_"
   ]
  },
  {
   "cell_type": "code",
   "execution_count": 39,
   "metadata": {},
   "outputs": [
    {
     "data": {
      "text/html": [
       "<div>\n",
       "<style scoped>\n",
       "    .dataframe tbody tr th:only-of-type {\n",
       "        vertical-align: middle;\n",
       "    }\n",
       "\n",
       "    .dataframe tbody tr th {\n",
       "        vertical-align: top;\n",
       "    }\n",
       "\n",
       "    .dataframe thead th {\n",
       "        text-align: right;\n",
       "    }\n",
       "</style>\n",
       "<table border=\"1\" class=\"dataframe\">\n",
       "  <thead>\n",
       "    <tr style=\"text-align: right;\">\n",
       "      <th></th>\n",
       "      <th>Ticker</th>\n",
       "      <th>Name</th>\n",
       "      <th>Return on Assets</th>\n",
       "      <th>Return on Invested Capital</th>\n",
       "      <th>EBITDA Margin</th>\n",
       "      <th>Net Income Margin</th>\n",
       "      <th>Total Debt</th>\n",
       "      <th>EV/Sales</th>\n",
       "      <th>EV/EBITDA</th>\n",
       "      <th>EV/EBIT</th>\n",
       "      <th>Net Debt/Equity</th>\n",
       "      <th>Net Debt/Capital</th>\n",
       "      <th>sector</th>\n",
       "      <th>sub sector</th>\n",
       "      <th>Component 1</th>\n",
       "      <th>Component 2</th>\n",
       "      <th>Component 3</th>\n",
       "      <th>Component 4</th>\n",
       "      <th>PCA cluster</th>\n",
       "    </tr>\n",
       "  </thead>\n",
       "  <tbody>\n",
       "    <tr>\n",
       "      <td>0</td>\n",
       "      <td>AVGO UW Equity</td>\n",
       "      <td>Broadcom Inc</td>\n",
       "      <td>15.4483</td>\n",
       "      <td>20.1602</td>\n",
       "      <td>58.1484</td>\n",
       "      <td>34.6204</td>\n",
       "      <td>39978.000</td>\n",
       "      <td>6.7835</td>\n",
       "      <td>11.6659</td>\n",
       "      <td>15.8136</td>\n",
       "      <td>121.3704</td>\n",
       "      <td>54.8268</td>\n",
       "      <td>Information Technology</td>\n",
       "      <td>Semiconductors</td>\n",
       "      <td>2.273440</td>\n",
       "      <td>-0.131342</td>\n",
       "      <td>0.177950</td>\n",
       "      <td>-0.882983</td>\n",
       "      <td>1</td>\n",
       "    </tr>\n",
       "    <tr>\n",
       "      <td>1</td>\n",
       "      <td>MPWR UW Equity</td>\n",
       "      <td>Monolithic Power Systems Inc</td>\n",
       "      <td>24.0168</td>\n",
       "      <td>29.4596</td>\n",
       "      <td>31.8245</td>\n",
       "      <td>24.3944</td>\n",
       "      <td>3.797</td>\n",
       "      <td>8.8752</td>\n",
       "      <td>27.8880</td>\n",
       "      <td>30.2218</td>\n",
       "      <td>-43.9935</td>\n",
       "      <td>-78.5506</td>\n",
       "      <td>Information Technology</td>\n",
       "      <td>Semiconductors</td>\n",
       "      <td>1.477106</td>\n",
       "      <td>1.233270</td>\n",
       "      <td>-0.099802</td>\n",
       "      <td>0.188820</td>\n",
       "      <td>1</td>\n",
       "    </tr>\n",
       "    <tr>\n",
       "      <td>2</td>\n",
       "      <td>IBM UN Equity</td>\n",
       "      <td>International Business Machines Corp</td>\n",
       "      <td>1.2644</td>\n",
       "      <td>16.3830</td>\n",
       "      <td>21.9577</td>\n",
       "      <td>2.7077</td>\n",
       "      <td>54013.000</td>\n",
       "      <td>2.8583</td>\n",
       "      <td>13.0172</td>\n",
       "      <td>22.6647</td>\n",
       "      <td>205.5992</td>\n",
       "      <td>67.2774</td>\n",
       "      <td>Information Technology</td>\n",
       "      <td>IT Consulting &amp; Other Services</td>\n",
       "      <td>-1.189565</td>\n",
       "      <td>-1.145307</td>\n",
       "      <td>1.410849</td>\n",
       "      <td>0.931534</td>\n",
       "      <td>2</td>\n",
       "    </tr>\n",
       "    <tr>\n",
       "      <td>3</td>\n",
       "      <td>ADI UW Equity</td>\n",
       "      <td>Analog Devices Inc</td>\n",
       "      <td>5.3565</td>\n",
       "      <td>6.3202</td>\n",
       "      <td>46.9193</td>\n",
       "      <td>22.8781</td>\n",
       "      <td>6939.532</td>\n",
       "      <td>6.5970</td>\n",
       "      <td>14.0603</td>\n",
       "      <td>24.0833</td>\n",
       "      <td>14.9977</td>\n",
       "      <td>13.0417</td>\n",
       "      <td>Information Technology</td>\n",
       "      <td>Semiconductors</td>\n",
       "      <td>0.051160</td>\n",
       "      <td>-0.087263</td>\n",
       "      <td>0.085489</td>\n",
       "      <td>-1.437887</td>\n",
       "      <td>0</td>\n",
       "    </tr>\n",
       "    <tr>\n",
       "      <td>4</td>\n",
       "      <td>CSCO UW Equity</td>\n",
       "      <td>Cisco Systems Inc</td>\n",
       "      <td>12.3364</td>\n",
       "      <td>23.3467</td>\n",
       "      <td>31.6465</td>\n",
       "      <td>22.9106</td>\n",
       "      <td>10561.000</td>\n",
       "      <td>3.4479</td>\n",
       "      <td>10.8951</td>\n",
       "      <td>12.7035</td>\n",
       "      <td>-21.8892</td>\n",
       "      <td>-28.0233</td>\n",
       "      <td>Information Technology</td>\n",
       "      <td>Communications Equipment</td>\n",
       "      <td>0.601105</td>\n",
       "      <td>-0.548328</td>\n",
       "      <td>0.611913</td>\n",
       "      <td>-0.180281</td>\n",
       "      <td>0</td>\n",
       "    </tr>\n",
       "  </tbody>\n",
       "</table>\n",
       "</div>"
      ],
      "text/plain": [
       "           Ticker                                  Name  Return on Assets  \\\n",
       "0  AVGO UW Equity                          Broadcom Inc           15.4483   \n",
       "1  MPWR UW Equity          Monolithic Power Systems Inc           24.0168   \n",
       "2   IBM UN Equity  International Business Machines Corp            1.2644   \n",
       "3   ADI UW Equity                    Analog Devices Inc            5.3565   \n",
       "4  CSCO UW Equity                     Cisco Systems Inc           12.3364   \n",
       "\n",
       "   Return on Invested Capital  EBITDA Margin  Net Income Margin  Total Debt  \\\n",
       "0                     20.1602        58.1484            34.6204   39978.000   \n",
       "1                     29.4596        31.8245            24.3944       3.797   \n",
       "2                     16.3830        21.9577             2.7077   54013.000   \n",
       "3                      6.3202        46.9193            22.8781    6939.532   \n",
       "4                     23.3467        31.6465            22.9106   10561.000   \n",
       "\n",
       "   EV/Sales  EV/EBITDA  EV/EBIT  Net Debt/Equity  Net Debt/Capital  \\\n",
       "0    6.7835    11.6659  15.8136         121.3704           54.8268   \n",
       "1    8.8752    27.8880  30.2218         -43.9935          -78.5506   \n",
       "2    2.8583    13.0172  22.6647         205.5992           67.2774   \n",
       "3    6.5970    14.0603  24.0833          14.9977           13.0417   \n",
       "4    3.4479    10.8951  12.7035         -21.8892          -28.0233   \n",
       "\n",
       "                   sector                      sub sector  Component 1  \\\n",
       "0  Information Technology                  Semiconductors     2.273440   \n",
       "1  Information Technology                  Semiconductors     1.477106   \n",
       "2  Information Technology  IT Consulting & Other Services    -1.189565   \n",
       "3  Information Technology                  Semiconductors     0.051160   \n",
       "4  Information Technology        Communications Equipment     0.601105   \n",
       "\n",
       "   Component 2  Component 3  Component 4  PCA cluster  \n",
       "0    -0.131342     0.177950    -0.882983            1  \n",
       "1     1.233270    -0.099802     0.188820            1  \n",
       "2    -1.145307     1.410849     0.931534            2  \n",
       "3    -0.087263     0.085489    -1.437887            0  \n",
       "4    -0.548328     0.611913    -0.180281            0  "
      ]
     },
     "execution_count": 39,
     "metadata": {},
     "output_type": "execute_result"
    }
   ],
   "source": [
    "excel_sheet_pca.head()"
   ]
  },
  {
   "cell_type": "code",
   "execution_count": 41,
   "metadata": {},
   "outputs": [
    {
     "data": {
      "text/plain": [
       "<matplotlib.axes._subplots.AxesSubplot at 0x14afd221188>"
      ]
     },
     "execution_count": 41,
     "metadata": {},
     "output_type": "execute_result"
    },
    {
     "data": {
      "image/png": "[encoded data removed]",
      "text/plain": [
       "<Figure size 432x288 with 1 Axes>"
      ]
     },
     "metadata": {
      "needs_background": "light"
     },
     "output_type": "display_data"
    }
   ],
   "source": [
    "sns.scatterplot('Component 1','Component 2', hue='PCA cluster', data = excel_sheet_pca)"
   ]
  },
  {
   "cell_type": "code",
   "execution_count": null,
   "metadata": {},
   "outputs": [],
   "source": []
  }
 ],
 "metadata": {
  "kernelspec": {
   "display_name": "Python 3",
   "language": "python",
   "name": "python3"
  },
  "language_info": {
   "codemirror_mode": {
    "name": "ipython",
    "version": 3
   },
   "file_extension": ".py",
   "mimetype": "text/x-python",
   "name": "python",
   "nbconvert_exporter": "python",
   "pygments_lexer": "ipython3",
   "version": "3.7.4"
  }
 },
 "nbformat": 4,
 "nbformat_minor": 2
}
